{
 "cells": [
  {
   "cell_type": "code",
   "execution_count": 1,
   "metadata": {},
   "outputs": [
    {
     "name": "stdout",
     "output_type": "stream",
     "text": [
      "Om Namah Shivaya\n"
     ]
    }
   ],
   "source": [
    "print(\"Om Namah Shivaya\")"
   ]
  },
  {
   "cell_type": "code",
   "execution_count": 4,
   "metadata": {},
   "outputs": [
    {
     "name": "stdout",
     "output_type": "stream",
     "text": [
      "A-NEGATIVE 11\n",
      "AB-NEGATIVE 6\n",
      "A-POSITIVE 285\n",
      "AB-POSITIVE 66\n",
      "O-NEGATIVE 23\n",
      "O-POSITIVE 469\n",
      "B-NEGATIVE 16\n",
      "B-POSITIVE 274\n",
      "{'AB-POSITIVE': 0, 'O-POSITIVE': 1, 'B-POSITIVE': 2, 'A-POSITIVE': 3, 'B-NEGATIVE': 4, 'O-NEGATIVE': 5, 'A-NEGATIVE': 6, 'AB-NEGATIVE': 7}\n",
      "23\n",
      "274\n",
      "469\n",
      "285\n",
      "66\n",
      "11\n",
      "16\n",
      "6\n",
      "[[5.00000000e+00]\n",
      " [2.00000000e+00]\n",
      " [1.00000000e+00]\n",
      " [3.00000000e+00]\n",
      " [6.66133815e-16]\n",
      " [6.00000000e+00]\n",
      " [4.00000000e+00]\n",
      " [7.00000000e+00]]\n"
     ]
    },
    {
     "data": {
      "text/plain": [
       "<matplotlib.collections.PathCollection at 0x1b1e97abe80>"
      ]
     },
     "execution_count": 4,
     "metadata": {},
     "output_type": "execute_result"
    },
    {
     "data": {
      "image/png": "[encoded data removed]",
      "text/plain": [
       "<Figure size 432x288 with 1 Axes>"
      ]
     },
     "metadata": {
      "needs_background": "light"
     },
     "output_type": "display_data"
    }
   ],
   "source": [
    "import pandas as pd\n",
    "import numpy as np\n",
    "from sklearn.cluster import KMeans\n",
    "import matplotlib.pyplot as plt\n",
    "%matplotlib inline\n",
    "import datetime\n",
    "\n",
    "df = pd.read_excel('master_blood.xlsx')\n",
    "df['Mobile'] = df['Mobile'].apply(str)\n",
    "df['Wt.'] = df['Wt.'].apply(str)\n",
    "df['Hb%'] = df['Hb%'].apply(str)\n",
    "\n",
    "a = list(df['BLOOD GROUP'])\n",
    "b = set(df['BLOOD GROUP'])\n",
    "for i in b:\n",
    "    print(i,end=\" \")\n",
    "    print(a.count(i))\n",
    "    \n",
    "arr = df['BLOOD GROUP']\n",
    "\n",
    "label = {k:i for i, k in enumerate(df['BLOOD GROUP'].unique(),0)}\n",
    "arr = arr.map(label)\n",
    "print(label)\n",
    "\n",
    "#plt.scatter(df['S No'],df['BLOOD GROUP'],cmap='rgb')\n",
    "\n",
    "cn = {}\n",
    "kmeans = KMeans(n_clusters=8)\n",
    "arr = np.array(arr)\n",
    "arr = arr.reshape(-1,1)\n",
    "kmeans.fit(arr)\n",
    "for i in set(kmeans.labels_):    \n",
    "    #for i in set(kmeans.labels_):\n",
    "    temp=[]\n",
    "    tem = round(kmeans.cluster_centers_[i][0])\n",
    "    for j in range(len(kmeans.labels_)):\n",
    "        if kmeans.labels_[j] == i:\n",
    "            #print(j,end = \" \")\n",
    "            temp.append(j)\n",
    "    cn[tem] = temp\n",
    "    print(len(temp))\n",
    "\n",
    "print(kmeans.cluster_centers_)\n",
    "\n",
    "plt.scatter(kmeans.labels_,df['BLOOD GROUP'])"
   ]
  },
  {
   "cell_type": "code",
   "execution_count": 11,
   "metadata": {},
   "outputs": [],
   "source": [
    "def string(lm):\n",
    "    s = ''\n",
    "    for i in lm:\n",
    "        if isinstance(i,str):\n",
    "            s = s +'\\n'+ i\n",
    "    return s\n",
    "    \n",
    "\n",
    "def getDetails(n):\n",
    "    lm = []\n",
    "    count =0 \n",
    "    import datetime\n",
    "    for j in n:\n",
    "        if(df['Count'][j]==0):\n",
    "            lm.append(string(df.iloc[j]))\n",
    "            count+=1\n",
    "            if count == 3:\n",
    "                break\n",
    "    for i in n:    \n",
    "        if df['Remarks'][i]==0 and df['Remarks'][i]=='TAB TAKEN' or df['Remarks'][i]=='FEVER':\n",
    "            lm.append(string(df.iloc[i]))\n",
    "            count+=1\n",
    "            if count == 3:\n",
    "                break\n",
    "    for i in n:    \n",
    "        d1 = datetime.datetime.now().date()\n",
    "        t = ( df['Last'][i].date())\n",
    "        delta = d1-t\n",
    "        #print(delta.days)\n",
    "        if delta.days > 180:\n",
    "            lm.append(string(df.iloc[i]))\n",
    "            count+=1\n",
    "            if count == 5:\n",
    "                break\n",
    "    return lm\n",
    "\n",
    "def get(i):\n",
    "    if i in ['O-POSITIVE','O+','o+','O POSITIVE','o positive']:\n",
    "        return(getDetails(cn[1]))\n",
    "    if i in ['O-NEGATIVE','O-','o-','O NEGATIVE','o negative']:\n",
    "        return(getDetails(cn[5]))\n",
    "    if i in ['A-POSITIVE','A+','a+','A POSITIVE','a positive']:\n",
    "        return(getDetails(cn[3]))\n",
    "    if i in ['B-POSITIVE','B+','b+','B POSITIVE','b positive']:\n",
    "        return(getDetails(cn[2]))\n",
    "    if i in ['AB-POSITIVE','AB+','ab+','AB POSITIVE','ab negative']:\n",
    "        return(getDetails(cn[-0]))\n",
    "    if i in ['B-NEGATIVE','B-','b-','B NEGATIVE','b negative']:\n",
    "        return(getDetails(cn[4]))\n",
    "    if i in ['A-NEGATIVE','A-','a-','A NEGATIVE','a negative']:\n",
    "        return(getDetails(cn[6]))\n",
    "    if i in ['AB-NEGATIVE','AB-','ab-','AB NEGATIVE']:\n",
    "        return(getDetails(cn[7]))\n",
    "            \n"
   ]
  },
  {
   "cell_type": "code",
   "execution_count": 12,
   "metadata": {},
   "outputs": [
    {
     "data": {
      "text/plain": [
       "['\\nMr.SHIVAKUMAR M\\n#1716 2ND CROSS CHIKKAVAKKALAGERI LASHKAR MOHALLA MYSURU\\n19/M\\n65.0\\n17\\n120/70\\nO-NEGATIVE\\n6362537279.0\\nREPLACEMENT\\nNot Done',\n",
       " '\\nMr.APPU\\n#26 HOOTAGALLI KHB COLONY ,MYSURU\\n28/M\\n16.3\\n16.3\\n110/70\\nO-NEGATIVE\\n8884268561.0\\nREPLACEMENT\\nScreening Test done',\n",
       " '\\nMr.SANTHOSH KV\\n#1728 SRI RAM PURA 2ND STAGE ,MYSURU\\n23/M\\n81.0\\n15.6\\n120/80\\nO-NEGATIVE\\n8147832741.0\\nREPLACEMENT\\nScreening Test done',\n",
       " '\\nMr.RAMESHA\\nKONURU V&P NANJANDUDU TQ ,MYSURU\\n30/M\\n71.0\\n16.7\\n110/70\\nO-NEGATIVE\\n8722594101.0\\nREPLACEMENT\\nScreening Test done',\n",
       " '\\nMr.Bv abhishek sundara raman\\nJSS MEDICAL COLLEGE MENS HOSTEL BANNIMANTAP ,MYSURU\\n22/M\\n65.0\\n17.9\\n120/80\\nO-NEGATIVE\\n973836090.0\\nVOLUNTARY\\nScreening Test done']"
      ]
     },
     "execution_count": 12,
     "metadata": {},
     "output_type": "execute_result"
    }
   ],
   "source": [
    "get('o-')"
   ]
  },
  {
   "cell_type": "code",
   "execution_count": null,
   "metadata": {},
   "outputs": [],
   "source": []
  }
 ],
 "metadata": {
  "kernelspec": {
   "display_name": "base",
   "language": "python",
   "name": "python3"
  },
  "language_info": {
   "codemirror_mode": {
    "name": "ipython",
    "version": 3
   },
   "file_extension": ".py",
   "mimetype": "text/x-python",
   "name": "python",
   "nbconvert_exporter": "python",
   "pygments_lexer": "ipython3",
   "version": "3.9.12"
  },
  "orig_nbformat": 4,
  "vscode": {
   "interpreter": {
    "hash": "ac1ecea7fe1d77f9fabe701af0ccd7f73587f36b84c4355e64b375bfad3c5d84"
   }
  }
 },
 "nbformat": 4,
 "nbformat_minor": 2
}
